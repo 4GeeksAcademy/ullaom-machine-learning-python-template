{
    "cells": [
        {
            "cell_type": "markdown",
            "metadata": {},
            "source": [
                "# Explore here"
            ]
        },
        {
            "cell_type": "code",
            "execution_count": 12,
            "metadata": {},
            "outputs": [],
            "source": [
                "import requests\n",
                "import os\n",
                "\n",
                "# Crear carpeta 'models' si no existe\n",
                "os.makedirs(\"models\", exist_ok=True)\n",
                "\n",
                "# URL directa al archivo del modelo\n",
                "url = \"https://github.com/4GeeksAcademy/ulla-random-forest-project-tutorial/raw/7e2118cb4b672b641b402cb82803d1235be2db56/models/random_forest_classifier_gini_maxdepth-6_minsplit-5_minleaf-1_nest-100.sav\"\n",
                "\n",
                "# Descargar archivo\n",
                "response = requests.get(url)\n",
                "\n",
                "with open(\"models/random_forest_classifier.sav\", \"wb\") as f:\n",
                "    f.write(response.content)\n"
            ]
        },
        {
            "cell_type": "code",
            "execution_count": 13,
            "metadata": {},
            "outputs": [
                {
                    "name": "stdout",
                    "output_type": "stream",
                    "text": [
                        "Modelo cargado con éxito: RandomForestClassifier(max_depth=6, min_samples_split=5, random_state=42)\n"
                    ]
                }
            ],
            "source": [
                "import pickle\n",
                "\n",
                "with open(\"models/random_forest_classifier.sav\", \"rb\") as f:\n",
                "    model = pickle.load(f)\n",
                "\n",
                "print(\"Modelo cargado con éxito:\", model)\n"
            ]
        },
        {
            "cell_type": "code",
            "execution_count": 14,
            "metadata": {},
            "outputs": [
                {
                    "name": "stdout",
                    "output_type": "stream",
                    "text": [
                        "['Pregnancies' 'Glucose' 'SkinThickness' 'Insulin' 'BMI'\n",
                        " 'DiabetesPedigreeFunction' 'Age']\n"
                    ]
                }
            ],
            "source": [
                "print(model.feature_names_in_)"
            ]
        }
    ],
    "metadata": {
        "kernelspec": {
            "display_name": "Python 3",
            "language": "python",
            "name": "python3"
        },
        "language_info": {
            "codemirror_mode": {
                "name": "ipython",
                "version": 3
            },
            "file_extension": ".py",
            "mimetype": "text/x-python",
            "name": "python",
            "nbconvert_exporter": "python",
            "pygments_lexer": "ipython3",
            "version": "3.11.4"
        },
        "orig_nbformat": 4
    },
    "nbformat": 4,
    "nbformat_minor": 2
}
